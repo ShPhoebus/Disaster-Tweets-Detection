{
 "cells": [
  {
   "cell_type": "markdown",
   "metadata": {},
   "source": [
    "# Document Classification"
   ]
  },
  {
   "cell_type": "markdown",
   "metadata": {},
   "source": [
    "Preprocess the data:"
   ]
  },
  {
   "cell_type": "code",
   "execution_count": 1,
   "metadata": {},
   "outputs": [
    {
     "name": "stdout",
     "output_type": "stream",
     "text": [
      "The paragraphs of each dataset:\n",
      "Arthur Conan Doyle:2563\n",
      "Fyodor Dostoyevsky:6349\n",
      "Jane Austen:12471\n",
      "The paragraphs of train data:21383\n",
      "\n",
      "The max length of one paragraphs: 14485\n"
     ]
    }
   ],
   "source": [
    "import keras\n",
    "import re\n",
    "import string\n",
    "from unicodedata import normalize\n",
    "import numpy\n",
    "from keras.utils import to_categorical\n",
    "import numpy as np\n",
    "\n",
    "# load data\n",
    "with open(\"Arthur.txt\", \"r\",encoding='UTF-8') as f:\n",
    "    arthurData1 = f.readlines()\n",
    "with open(\"Fyodor.txt\", \"r\",encoding='UTF-8') as f:\n",
    "    fyodorData2 = f.readlines()\n",
    "with open(\"Jane.txt\", \"r\",encoding='UTF-8') as f:\n",
    "    janeData3 = f.readlines()\n",
    "\n",
    "# transform document into paragraphs\n",
    "def to_paras(doc):\n",
    "    output = ''\n",
    "    for n in range(len(doc)):\n",
    "        output = output + doc[n]\n",
    "    lines = output.strip().split('\\n')\n",
    "    pairs = [line.split('\\t') for line in  lines]\n",
    "    \n",
    "    output2 = ''\n",
    "    for n in range(len(pairs)):\n",
    "        output2 += pairs[n][0]\n",
    "        if (pairs[n][0]==''):\n",
    "            output2 += '\\n'\n",
    "\n",
    "    lines = output2.strip().split('\\n')\n",
    "    return lines\n",
    "\n",
    "arthurData1= to_paras(arthurData1)\n",
    "fyodorData2= to_paras(fyodorData2)\n",
    "janeData3= to_paras(janeData3)\n",
    "    \n",
    "# cal the number of paragraphs\n",
    "arthurData1_len = len(arthurData1)\n",
    "fyodorData2_len = len(fyodorData2)\n",
    "janeData3_len = len(janeData3)\n",
    "print('The paragraphs of each dataset:')\n",
    "print('Arthur Conan Doyle:%d'%(arthurData1_len))\n",
    "print('Fyodor Dostoyevsky:%d'%(fyodorData2_len))\n",
    "print('Jane Austen:%d'%(janeData3_len))\n",
    "\n",
    "#joint train data\n",
    "train_data = arthurData1 + fyodorData2 + janeData3\n",
    "train_data_len = len(train_data)\n",
    "print('The paragraphs of train data:%d'%(train_data_len))\n",
    "\n",
    "# cal the max length of one paragraphs\n",
    "max_seq_length = max(len(line) for line in train_data)\n",
    "print('\\nThe max length of one paragraphs: %d'%max_seq_length)\n"
   ]
  },
  {
   "cell_type": "code",
   "execution_count": 2,
   "metadata": {},
   "outputs": [],
   "source": [
    "#  Preprocess the data: build the vocabulary, tokenize, etc.\n",
    "from keras.preprocessing.text import Tokenizer\n",
    "from keras.preprocessing.sequence import pad_sequences\n",
    "\n",
    "max_words = 3000 # most N appeared words\n",
    "train_data_len = 100 # each paras take N words\n",
    "\n",
    "lines = train_data\n",
    "tokenizer = Tokenizer(num_words=max_words, filters='!\"#$%&()*+,-./:;<=>?@[\\\\]^_`{|}~\\t\\n')\n",
    "tokenizer.fit_on_texts(lines) #1.token 2.build dict\n",
    "word_index = tokenizer.word_index\n",
    "seqs = tokenizer.texts_to_sequences(lines) # list of list\n",
    "seqs_pad = pad_sequences(seqs, maxlen=train_data_len, padding='post')\n",
    "\n",
    "# for TF-IDF: Preprocess the data: build the vocabulary, tokenize, etc.\n",
    "seqs_tfidf = tokenizer.texts_to_matrix(lines, mode='tfidf')"
   ]
  },
  {
   "cell_type": "code",
   "execution_count": 3,
   "metadata": {},
   "outputs": [
    {
     "name": "stdout",
     "output_type": "stream",
     "text": [
      "The size of label data: (21383,)\n",
      "The size of training data: (21383, 100)\n"
     ]
    }
   ],
   "source": [
    "# joint label data\n",
    "\n",
    "arthurTarget1=[0]*arthurData1_len\n",
    "fyodorTarget2=[1]*fyodorData2_len\n",
    "janeTarget3=[2]*janeData3_len\n",
    "label_data = arthurTarget1  + fyodorTarget2  + janeTarget3\n",
    "label_data = np.array(label_data) \n",
    "print('The size of label data: %s'%(str(label_data.shape)))\n",
    "print('The size of training data: %s'%(str(seqs_pad.shape)))"
   ]
  },
  {
   "cell_type": "code",
   "execution_count": 4,
   "metadata": {},
   "outputs": [
    {
     "name": "stdout",
     "output_type": "stream",
     "text": [
      "The size of train_data_onehot: (21383, 100)\n",
      "The size of train_data_onehot: (21383, 3000)\n",
      "The size of label_data_onehot: (21383, 3)\n"
     ]
    }
   ],
   "source": [
    "# onehot data\n",
    "def onehot_target(sequences, vocab_size):\n",
    "    n = len(sequences)\n",
    "    data = numpy.zeros((n, vocab_size))\n",
    "    for i in range(n):\n",
    "        data[i,:] = to_categorical(sequences[i], num_classes=vocab_size)\n",
    "    return data\n",
    "\n",
    "label_data_onehot = onehot_target(label_data,3)# encoder_input_seq, max_encoder_seq_length, num_encoder_tokens\n",
    "train_data_onehot = seqs_pad\n",
    "\n",
    "# for seqs_tfidf\n",
    "train_data_onehot_tfidf = seqs_tfidf\n",
    "\n",
    "print('The size of train_data_onehot: %s'%(str(train_data_onehot.shape)))\n",
    "print('The size of train_data_onehot: %s'%(str(train_data_onehot_tfidf.shape)))\n",
    "print('The size of label_data_onehot: %s'%(str(label_data_onehot.shape)))"
   ]
  },
  {
   "cell_type": "code",
   "execution_count": 5,
   "metadata": {},
   "outputs": [],
   "source": [
    "### partition the dataset to training, validation, and test.###\n",
    "from sklearn.model_selection import train_test_split\n",
    "\n",
    "# Randomly partition the dataset\n",
    "train_X,test_X,train_y,test_y = train_test_split(train_data_onehot,label_data_onehot,test_size=0.2,random_state=5)\n",
    "train_X,valid_X,train_y,valid_y = train_test_split(train_X,train_y,test_size=0.25,random_state=5)\n",
    "\n",
    "# for seqs_tfidf\n",
    "train_X_tfidf,test_X_tfidf,train_y_tfidf,test_y_tfidf = train_test_split(train_data_onehot_tfidf,label_data_onehot,test_size=0.2,random_state=5)\n",
    "train_X_tfidf,valid_X_tfidf,train_y_tfidf,valid_y_tfidf = train_test_split(train_X_tfidf,train_y_tfidf,test_size=0.25,random_state=5)"
   ]
  },
  {
   "cell_type": "code",
   "execution_count": 13,
   "metadata": {},
   "outputs": [
    {
     "name": "stdout",
     "output_type": "stream",
     "text": [
      "The size of train_X: (12829, 100)\n",
      "The size of train_y: (12829, 3)\n",
      "The size of valid_X: (4277, 100)\n",
      "The size of valid_y: (4277, 3)\n",
      "The size of test_X: (4277, 100)\n",
      "The size of test_y: (4277, 3)\n",
      "\n",
      "TF-IDF data for LR and MLP:\n",
      "The size of train_X: (12829, 100)\n",
      "The size of train_y: (12829, 3)\n",
      "The size of valid_X: (4277, 100)\n",
      "The size of valid_y: (4277, 3)\n",
      "The size of test_X: (4277, 100)\n",
      "The size of test_y: (4277, 3)\n"
     ]
    }
   ],
   "source": [
    "print('The size of train_X: %s'%(str(train_X.shape)))\n",
    "print('The size of train_y: %s'%(str(train_y.shape)))\n",
    "print('The size of valid_X: %s'%(str(valid_X.shape)))\n",
    "print('The size of valid_y: %s'%(str(valid_y.shape)))\n",
    "print('The size of test_X: %s'%(str(test_X.shape)))\n",
    "print('The size of test_y: %s'%(str(test_y.shape)))\n",
    "\n",
    "print('\\nTF-IDF data for LR and MLP:')\n",
    "print('The size of train_X: %s'%(str(train_X.shape)))\n",
    "print('The size of train_y: %s'%(str(train_y.shape)))\n",
    "print('The size of valid_X: %s'%(str(valid_X.shape)))\n",
    "print('The size of valid_y: %s'%(str(valid_y.shape)))\n",
    "print('The size of test_X: %s'%(str(test_X.shape)))\n",
    "print('The size of test_y: %s'%(str(test_y.shape)))"
   ]
  },
  {
   "cell_type": "markdown",
   "metadata": {},
   "source": [
    "# Build your models, Backpropagation, Train you model:"
   ]
  },
  {
   "cell_type": "markdown",
   "metadata": {},
   "source": [
    "LSTM model"
   ]
  },
  {
   "cell_type": "code",
   "execution_count": 7,
   "metadata": {},
   "outputs": [
    {
     "name": "stdout",
     "output_type": "stream",
     "text": [
      "Model: \"sequential\"\n",
      "_________________________________________________________________\n",
      "Layer (type)                 Output Shape              Param #   \n",
      "=================================================================\n",
      "embedding (Embedding)        (None, 100, 128)          384128    \n",
      "_________________________________________________________________\n",
      "lstm (LSTM)                  (None, 128)               131584    \n",
      "_________________________________________________________________\n",
      "dense (Dense)                (None, 128)               16512     \n",
      "_________________________________________________________________\n",
      "dropout (Dropout)            (None, 128)               0         \n",
      "_________________________________________________________________\n",
      "dense_1 (Dense)              (None, 3)                 387       \n",
      "=================================================================\n",
      "Total params: 532,611\n",
      "Trainable params: 532,611\n",
      "Non-trainable params: 0\n",
      "_________________________________________________________________\n",
      "Epoch 1/10\n",
      "401/401 [==============================] - 19s 43ms/step - loss: 0.9463 - accuracy: 0.5829 - val_loss: 0.7448 - val_accuracy: 0.6865\n",
      "Epoch 2/10\n",
      "401/401 [==============================] - 16s 40ms/step - loss: 0.7816 - accuracy: 0.6803 - val_loss: 0.5796 - val_accuracy: 0.8176\n",
      "Epoch 3/10\n",
      "401/401 [==============================] - 16s 40ms/step - loss: 0.6628 - accuracy: 0.7605 - val_loss: 0.8897 - val_accuracy: 0.6081\n",
      "Epoch 4/10\n",
      "401/401 [==============================] - 16s 41ms/step - loss: 0.7424 - accuracy: 0.7064 - val_loss: 0.4390 - val_accuracy: 0.8314\n",
      "Epoch 5/10\n",
      "401/401 [==============================] - 18s 46ms/step - loss: 0.4743 - accuracy: 0.8356 - val_loss: 0.3453 - val_accuracy: 0.8639\n",
      "Epoch 6/10\n",
      "401/401 [==============================] - 21s 52ms/step - loss: 0.3333 - accuracy: 0.8714 - val_loss: 0.3164 - val_accuracy: 0.8913\n",
      "Epoch 7/10\n",
      "401/401 [==============================] - 21s 53ms/step - loss: 0.2544 - accuracy: 0.9154 - val_loss: 0.2879 - val_accuracy: 0.8960\n",
      "Epoch 8/10\n",
      "401/401 [==============================] - 20s 49ms/step - loss: 0.2105 - accuracy: 0.9313 - val_loss: 0.3283 - val_accuracy: 0.9023\n",
      "Epoch 9/10\n",
      "401/401 [==============================] - 26s 65ms/step - loss: 0.1796 - accuracy: 0.9440 - val_loss: 0.3470 - val_accuracy: 0.9046\n",
      "Epoch 10/10\n",
      "401/401 [==============================] - 22s 55ms/step - loss: 0.1754 - accuracy: 0.9413 - val_loss: 0.2831 - val_accuracy: 0.9058\n",
      "              precision    recall  f1-score   support\n",
      "\n",
      "           0       0.73      0.72      0.73       491\n",
      "           1       0.99      0.88      0.93      1257\n",
      "           2       0.91      0.96      0.94      2529\n",
      "\n",
      "    accuracy                           0.91      4277\n",
      "   macro avg       0.88      0.86      0.86      4277\n",
      "weighted avg       0.91      0.91      0.91      4277\n",
      "\n"
     ]
    },
    {
     "data": {
      "image/png": "[encoded data removed]",
      "text/plain": [
       "<Figure size 432x288 with 1 Axes>"
      ]
     },
     "metadata": {
      "needs_background": "light"
     },
     "output_type": "display_data"
    }
   ],
   "source": [
    "# try use the last hidden state as the context vector for prediction.\n",
    "\n",
    "from keras.models import Model\n",
    "from keras.optimizers import Adam\n",
    "from keras.preprocessing.text import Tokenizer\n",
    "from keras.preprocessing import sequence\n",
    "from keras.callbacks import EarlyStopping\n",
    "from keras.layers import *\n",
    "from keras.models import Model,Sequential\n",
    "import matplotlib.pyplot as plt\n",
    "%matplotlib inline\n",
    "from sklearn.metrics import classification_report\n",
    "import numpy as np\n",
    "\n",
    "# the number of epochs\n",
    "epoch_num = 10\n",
    "\n",
    "## define LSTM\n",
    "max_len = train_data_len\n",
    "model = Sequential()\n",
    "model.add(Embedding(max_words+1,128,input_length=max_len))\n",
    "model.add(LSTM(128, return_sequences=False))# try use the last hidden state as the context vector for prediction.\n",
    "model.add(Dense(128,activation=\"relu\"))\n",
    "model.add(Dropout(0.5))\n",
    "model.add(Dense(3,activation=\"softmax\"))\n",
    "model.summary()\n",
    "model.compile(loss=\"categorical_crossentropy\",optimizer=Adam(learning_rate=0.001),metrics=[\"accuracy\"]) # use a learning rate of 1e-3 and an Adam optimizer\n",
    "\n",
    "#Plot the curves of training and validation loss\n",
    "class LossHistory(keras.callbacks.Callback):\n",
    "    def on_train_begin(self, logs={}):\n",
    "        self.losses = {'batch':[], 'epoch':[]}\n",
    "        self.val_loss = {'batch':[], 'epoch':[]}\n",
    "    def on_batch_end(self, batch, logs={}):\n",
    "        self.losses['batch'].append(logs.get('loss'))\n",
    "        self.val_loss['batch'].append(logs.get('val_loss'))\n",
    "    def on_epoch_end(self, batch, logs={}):\n",
    "        self.losses['epoch'].append(logs.get('loss'))\n",
    "        self.val_loss['epoch'].append(logs.get('val_loss'))\n",
    "    def loss_plot(self, loss_type):\n",
    "        iters = range(len(self.losses[loss_type]))\n",
    "        plt.figure()\n",
    "        # loss\n",
    "        plt.plot(iters, self.losses[loss_type], 'g', label='train loss')\n",
    "        if loss_type == 'epoch':\n",
    "            # val_loss\n",
    "            plt.plot(iters, self.val_loss[loss_type], 'k', label='val loss')\n",
    "        plt.grid(True)\n",
    "        plt.xlabel(loss_type)\n",
    "        plt.ylabel('loss')\n",
    "        plt.legend(loc=\"upper right\")\n",
    "        plt.show()\n",
    "history = LossHistory()\n",
    "\n",
    "# fit\n",
    "model_fit = model.fit(train_X,train_y,batch_size=32,epochs=epoch_num,\n",
    "                      validation_data=(valid_X,valid_y),\n",
    "                      callbacks=[history]\n",
    "                     )\n",
    "\n",
    "# predict\n",
    "y_pred  = model.predict(test_X)\n",
    "y_true = test_y\n",
    "\n",
    "# F1\n",
    "print(classification_report(np.argmax(y_true,axis=1), np.argmax(y_pred,axis=1)))\n",
    "\n",
    "# Plot the curves of training and validation loss\n",
    "history.loss_plot('epoch')"
   ]
  },
  {
   "cell_type": "code",
   "execution_count": 8,
   "metadata": {},
   "outputs": [
    {
     "name": "stdout",
     "output_type": "stream",
     "text": [
      "Model: \"sequential_1\"\n",
      "_________________________________________________________________\n",
      "Layer (type)                 Output Shape              Param #   \n",
      "=================================================================\n",
      "embedding_1 (Embedding)      (None, 100, 128)          384128    \n",
      "_________________________________________________________________\n",
      "lstm_1 (LSTM)                (None, 64)                49408     \n",
      "_________________________________________________________________\n",
      "dense_2 (Dense)              (None, 128)               8320      \n",
      "_________________________________________________________________\n",
      "dropout_1 (Dropout)          (None, 128)               0         \n",
      "_________________________________________________________________\n",
      "dense_3 (Dense)              (None, 3)                 387       \n",
      "=================================================================\n",
      "Total params: 442,243\n",
      "Trainable params: 442,243\n",
      "Non-trainable params: 0\n",
      "_________________________________________________________________\n",
      "Epoch 1/10\n",
      "401/401 [==============================] - 12s 27ms/step - loss: 0.9457 - accuracy: 0.5800 - val_loss: 0.8158 - val_accuracy: 0.6855\n",
      "Epoch 2/10\n",
      "401/401 [==============================] - 10s 26ms/step - loss: 0.7388 - accuracy: 0.7172 - val_loss: 0.8480 - val_accuracy: 0.6072\n",
      "Epoch 3/10\n",
      "401/401 [==============================] - 10s 26ms/step - loss: 0.8016 - accuracy: 0.6243 - val_loss: 0.6523 - val_accuracy: 0.7877\n",
      "Epoch 4/10\n",
      "401/401 [==============================] - 10s 26ms/step - loss: 0.8445 - accuracy: 0.6459 - val_loss: 0.8907 - val_accuracy: 0.6039\n",
      "Epoch 5/10\n",
      "401/401 [==============================] - 10s 26ms/step - loss: 0.8785 - accuracy: 0.6108 - val_loss: 0.7227 - val_accuracy: 0.7052\n",
      "Epoch 6/10\n",
      "401/401 [==============================] - 10s 26ms/step - loss: 0.8202 - accuracy: 0.5940 - val_loss: 0.8349 - val_accuracy: 0.6067\n",
      "Epoch 7/10\n",
      "401/401 [==============================] - 10s 26ms/step - loss: 0.7912 - accuracy: 0.6109 - val_loss: 0.7701 - val_accuracy: 0.5850\n",
      "Epoch 8/10\n",
      "401/401 [==============================] - 10s 26ms/step - loss: 0.7858 - accuracy: 0.6094 - val_loss: 0.8129 - val_accuracy: 0.6086\n",
      "Epoch 9/10\n",
      "401/401 [==============================] - 10s 26ms/step - loss: 0.8032 - accuracy: 0.6112 - val_loss: 0.8292 - val_accuracy: 0.6119\n",
      "Epoch 10/10\n",
      "401/401 [==============================] - 10s 26ms/step - loss: 0.7738 - accuracy: 0.6266 - val_loss: 0.5117 - val_accuracy: 0.7957\n",
      "              precision    recall  f1-score   support\n",
      "\n",
      "           0       0.00      0.00      0.00       491\n",
      "           1       0.91      0.71      0.80      1257\n",
      "           2       0.77      1.00      0.87      2529\n",
      "\n",
      "    accuracy                           0.80      4277\n",
      "   macro avg       0.56      0.57      0.56      4277\n",
      "weighted avg       0.72      0.80      0.75      4277\n",
      "\n"
     ]
    },
    {
     "name": "stderr",
     "output_type": "stream",
     "text": [
      "C:\\SH_Program\\Anaconda3\\lib\\site-packages\\sklearn\\metrics\\_classification.py:1221: UndefinedMetricWarning: Precision and F-score are ill-defined and being set to 0.0 in labels with no predicted samples. Use `zero_division` parameter to control this behavior.\n",
      "  _warn_prf(average, modifier, msg_start, len(result))\n"
     ]
    },
    {
     "data": {
      "image/png": "[encoded data removed]",
      "text/plain": [
       "<Figure size 432x288 with 1 Axes>"
      ]
     },
     "metadata": {
      "needs_background": "light"
     },
     "output_type": "display_data"
    }
   ],
   "source": [
    "# Tune the parameters: hidden state size for LSTM 128 to 64\n",
    "\n",
    "## define LSTM\n",
    "max_len = train_data_len\n",
    "model = Sequential()\n",
    "model.add(Embedding(max_words+1,128,input_length=max_len))\n",
    "model.add(LSTM(64, return_sequences=False))# Tune the parameters: hidden state size for LSTM 128 to 64\n",
    "model.add(Dense(128,activation=\"relu\"))\n",
    "model.add(Dropout(0.5))\n",
    "model.add(Dense(3,activation=\"softmax\"))\n",
    "model.summary()\n",
    "model.compile(loss=\"categorical_crossentropy\",optimizer=Adam(learning_rate=0.001),metrics=[\"accuracy\"]) # use a learning rate of 1e-3 and an Adam optimizer\n",
    "\n",
    "# fit\n",
    "model_fit = model.fit(train_X,train_y,batch_size=32,epochs=epoch_num,\n",
    "                      validation_data=(valid_X,valid_y),\n",
    "                      callbacks=[history]\n",
    "                     )\n",
    "\n",
    "# predict\n",
    "y_pred  = model.predict(test_X)\n",
    "y_true = test_y\n",
    "\n",
    "# F1\n",
    "print(classification_report(np.argmax(y_true,axis=1), np.argmax(y_pred,axis=1)))\n",
    "\n",
    "# Plot the curves of training and validation loss\n",
    "history.loss_plot('epoch')"
   ]
  },
  {
   "cell_type": "markdown",
   "metadata": {},
   "source": [
    "select hyperparameters for LSTM:\n",
    "\n",
    "When hidden state size for LSTM is 128, the model have smaller valid loss and higher accuray.\n",
    "So, 128 is the best hyperparameter for hidden state size."
   ]
  },
  {
   "cell_type": "code",
   "execution_count": null,
   "metadata": {},
   "outputs": [],
   "source": [
    "\n",
    "    "
   ]
  },
  {
   "cell_type": "markdown",
   "metadata": {},
   "source": [
    "CNN model"
   ]
  },
  {
   "cell_type": "code",
   "execution_count": 9,
   "metadata": {},
   "outputs": [
    {
     "name": "stdout",
     "output_type": "stream",
     "text": [
      "Model: \"sequential_2\"\n",
      "_________________________________________________________________\n",
      "Layer (type)                 Output Shape              Param #   \n",
      "=================================================================\n",
      "embedding_2 (Embedding)      (None, 100, 128)          384128    \n",
      "_________________________________________________________________\n",
      "conv1d (Conv1D)              (None, 100, 256)          164096    \n",
      "_________________________________________________________________\n",
      "max_pooling1d (MaxPooling1D) (None, 34, 256)           0         \n",
      "_________________________________________________________________\n",
      "flatten (Flatten)            (None, 8704)              0         \n",
      "_________________________________________________________________\n",
      "dropout_2 (Dropout)          (None, 8704)              0         \n",
      "_________________________________________________________________\n",
      "dense_4 (Dense)              (None, 3)                 26115     \n",
      "=================================================================\n",
      "Total params: 574,339\n",
      "Trainable params: 574,339\n",
      "Non-trainable params: 0\n",
      "_________________________________________________________________\n",
      "Epoch 1/10\n",
      "401/401 [==============================] - 7s 16ms/step - loss: 0.6060 - accuracy: 0.7470 - val_loss: 0.2692 - val_accuracy: 0.8999\n",
      "Epoch 2/10\n",
      "401/401 [==============================] - 6s 16ms/step - loss: 0.1917 - accuracy: 0.9338 - val_loss: 0.2515 - val_accuracy: 0.9090\n",
      "Epoch 3/10\n",
      "401/401 [==============================] - 6s 16ms/step - loss: 0.1328 - accuracy: 0.9514 - val_loss: 0.2813 - val_accuracy: 0.9072\n",
      "Epoch 4/10\n",
      "401/401 [==============================] - 6s 16ms/step - loss: 0.1068 - accuracy: 0.9606 - val_loss: 0.2894 - val_accuracy: 0.9100\n",
      "Epoch 5/10\n",
      "401/401 [==============================] - 6s 16ms/step - loss: 0.0891 - accuracy: 0.9669 - val_loss: 0.3237 - val_accuracy: 0.9053\n",
      "Epoch 6/10\n",
      "401/401 [==============================] - 6s 16ms/step - loss: 0.0822 - accuracy: 0.9728 - val_loss: 0.3752 - val_accuracy: 0.9072\n",
      "Epoch 7/10\n",
      "401/401 [==============================] - 6s 16ms/step - loss: 0.0799 - accuracy: 0.9731 - val_loss: 0.3749 - val_accuracy: 0.9074\n",
      "Epoch 8/10\n",
      "401/401 [==============================] - 6s 16ms/step - loss: 0.0785 - accuracy: 0.9714 - val_loss: 0.4270 - val_accuracy: 0.9013\n",
      "Epoch 9/10\n",
      "401/401 [==============================] - 6s 15ms/step - loss: 0.0683 - accuracy: 0.9757 - val_loss: 0.4703 - val_accuracy: 0.8983\n",
      "Epoch 10/10\n",
      "401/401 [==============================] - 6s 15ms/step - loss: 0.0717 - accuracy: 0.9724 - val_loss: 0.4557 - val_accuracy: 0.8962\n",
      "              precision    recall  f1-score   support\n",
      "\n",
      "           0       0.75      0.70      0.73       491\n",
      "           1       0.93      0.90      0.91      1257\n",
      "           2       0.91      0.94      0.93      2529\n",
      "\n",
      "    accuracy                           0.90      4277\n",
      "   macro avg       0.87      0.85      0.86      4277\n",
      "weighted avg       0.90      0.90      0.90      4277\n",
      "\n"
     ]
    },
    {
     "data": {
      "image/png": "[encoded data removed]",
      "text/plain": [
       "<Figure size 432x288 with 1 Axes>"
      ]
     },
     "metadata": {
      "needs_background": "light"
     },
     "output_type": "display_data"
    }
   ],
   "source": [
    "## define CNN\n",
    "\n",
    "max_len = train_data_len\n",
    "model = Sequential()\n",
    "model.add(Embedding(max_words+ 1, 128, input_length=max_len)) \n",
    "model.add(Conv1D(256, 5, padding='same'))\n",
    "model.add(MaxPooling1D(3, 3, padding='same'))\n",
    "model.add(Flatten())\n",
    "model.add(Dropout(0.1))\n",
    "model.add(Dense(3, activation='softmax'))\n",
    "model.summary()\n",
    "model.compile(loss=\"categorical_crossentropy\",optimizer=Adam(learning_rate=0.001),metrics=[\"accuracy\"]) # use a learning rate of 1e-3 and an Adam optimizer\n",
    "\n",
    "# fit\n",
    "model_fit = model.fit(train_X,train_y,batch_size=32,epochs=epoch_num,\n",
    "                      validation_data=(valid_X,valid_y),\n",
    "                      callbacks=[history]\n",
    "                     )\n",
    "\n",
    "# predict\n",
    "y_pred  = model.predict(test_X)\n",
    "y_true = test_y\n",
    "\n",
    "# F1\n",
    "print(classification_report(np.argmax(y_true,axis=1), np.argmax(y_pred,axis=1)))\n",
    "\n",
    "# Plot the curves of training and validation loss\n",
    "history.loss_plot('epoch')\n"
   ]
  },
  {
   "cell_type": "code",
   "execution_count": 10,
   "metadata": {},
   "outputs": [
    {
     "name": "stdout",
     "output_type": "stream",
     "text": [
      "Model: \"sequential_3\"\n",
      "_________________________________________________________________\n",
      "Layer (type)                 Output Shape              Param #   \n",
      "=================================================================\n",
      "embedding_3 (Embedding)      (None, 100, 128)          384128    \n",
      "_________________________________________________________________\n",
      "conv1d_1 (Conv1D)            (None, 100, 128)          82048     \n",
      "_________________________________________________________________\n",
      "max_pooling1d_1 (MaxPooling1 (None, 34, 128)           0         \n",
      "_________________________________________________________________\n",
      "flatten_1 (Flatten)          (None, 4352)              0         \n",
      "_________________________________________________________________\n",
      "dropout_3 (Dropout)          (None, 4352)              0         \n",
      "_________________________________________________________________\n",
      "dense_5 (Dense)              (None, 3)                 13059     \n",
      "=================================================================\n",
      "Total params: 479,235\n",
      "Trainable params: 479,235\n",
      "Non-trainable params: 0\n",
      "_________________________________________________________________\n",
      "Epoch 1/10\n",
      "401/401 [==============================] - 5s 11ms/step - loss: 0.6559 - accuracy: 0.7160 - val_loss: 0.2355 - val_accuracy: 0.9081\n",
      "Epoch 2/10\n",
      "401/401 [==============================] - 4s 11ms/step - loss: 0.1960 - accuracy: 0.9265 - val_loss: 0.2284 - val_accuracy: 0.9102\n",
      "Epoch 3/10\n",
      "401/401 [==============================] - 4s 10ms/step - loss: 0.1309 - accuracy: 0.9524 - val_loss: 0.2460 - val_accuracy: 0.9105\n",
      "Epoch 4/10\n",
      "401/401 [==============================] - 4s 10ms/step - loss: 0.1097 - accuracy: 0.9584 - val_loss: 0.2830 - val_accuracy: 0.9069\n",
      "Epoch 5/10\n",
      "401/401 [==============================] - 4s 11ms/step - loss: 0.0937 - accuracy: 0.9660 - val_loss: 0.3189 - val_accuracy: 0.9013\n",
      "Epoch 6/10\n",
      "401/401 [==============================] - 4s 10ms/step - loss: 0.0847 - accuracy: 0.9679 - val_loss: 0.3547 - val_accuracy: 0.9020\n",
      "Epoch 7/10\n",
      "401/401 [==============================] - 4s 10ms/step - loss: 0.0754 - accuracy: 0.9740 - val_loss: 0.3945 - val_accuracy: 0.9053\n",
      "Epoch 8/10\n",
      "401/401 [==============================] - 4s 10ms/step - loss: 0.0771 - accuracy: 0.9726 - val_loss: 0.4070 - val_accuracy: 0.9013\n",
      "Epoch 9/10\n",
      "401/401 [==============================] - 4s 10ms/step - loss: 0.0703 - accuracy: 0.9743 - val_loss: 0.4154 - val_accuracy: 0.8939\n",
      "Epoch 10/10\n",
      "401/401 [==============================] - 4s 10ms/step - loss: 0.0732 - accuracy: 0.9741 - val_loss: 0.4480 - val_accuracy: 0.8943\n",
      "              precision    recall  f1-score   support\n",
      "\n",
      "           0       0.74      0.74      0.74       491\n",
      "           1       0.97      0.88      0.92      1257\n",
      "           2       0.91      0.95      0.93      2529\n",
      "\n",
      "    accuracy                           0.90      4277\n",
      "   macro avg       0.87      0.86      0.86      4277\n",
      "weighted avg       0.91      0.90      0.90      4277\n",
      "\n"
     ]
    },
    {
     "data": {
      "image/png": "[encoded data removed]",
      "text/plain": [
       "<Figure size 432x288 with 1 Axes>"
      ]
     },
     "metadata": {
      "needs_background": "light"
     },
     "output_type": "display_data"
    }
   ],
   "source": [
    "# Tune the parameters: the filter size for CNN, 256 to 128\n",
    "\n",
    "## define CNN\n",
    "\n",
    "max_len = train_data_len\n",
    "model = Sequential()\n",
    "model.add(Embedding(max_words+ 1, 128, input_length=max_len))\n",
    "model.add(Conv1D(128, 5, padding='same')) # Tune the parameters: the filter size for CNN, 256 to 128\n",
    "model.add(MaxPooling1D(3, 3, padding='same'))\n",
    "model.add(Flatten())\n",
    "model.add(Dropout(0.1))\n",
    "model.add(Dense(3, activation='softmax'))\n",
    "model.summary()\n",
    "model.compile(loss=\"categorical_crossentropy\",optimizer=Adam(learning_rate=0.001),metrics=[\"accuracy\"]) # use a learning rate of 1e-3 and an Adam optimizer\n",
    "\n",
    "# fit\n",
    "model_fit = model.fit(train_X,train_y,batch_size=32,epochs=epoch_num,\n",
    "                      validation_data=(valid_X,valid_y),\n",
    "                      callbacks=[history]\n",
    "                     )\n",
    "\n",
    "# predict\n",
    "y_pred  = model.predict(test_X)\n",
    "y_true = test_y\n",
    "\n",
    "# F1\n",
    "print(classification_report(np.argmax(y_true,axis=1), np.argmax(y_pred,axis=1)))\n",
    "\n",
    "# Plot the curves of training and validation loss\n",
    "history.loss_plot('epoch')"
   ]
  },
  {
   "cell_type": "markdown",
   "metadata": {},
   "source": [
    "select hyperparameters for CNN:\n",
    "\n",
    "These two hyperparameters have almost the same performance. We can see that the model is overfitting.\n",
    "When the filter size for CNN is 128, the model have smaller valid loss and higher accuray.\n",
    "So, 128 is the best the filter size for CNN."
   ]
  },
  {
   "cell_type": "code",
   "execution_count": null,
   "metadata": {},
   "outputs": [],
   "source": []
  },
  {
   "cell_type": "code",
   "execution_count": null,
   "metadata": {},
   "outputs": [],
   "source": []
  },
  {
   "cell_type": "markdown",
   "metadata": {},
   "source": [
    "# Compare with LR and MLP models"
   ]
  },
  {
   "cell_type": "markdown",
   "metadata": {},
   "source": [
    "Logistic Regression"
   ]
  },
  {
   "cell_type": "code",
   "execution_count": 11,
   "metadata": {},
   "outputs": [
    {
     "name": "stdout",
     "output_type": "stream",
     "text": [
      "Model: \"sequential_4\"\n",
      "_________________________________________________________________\n",
      "Layer (type)                 Output Shape              Param #   \n",
      "=================================================================\n",
      "dense_6 (Dense)              (None, 3)                 9003      \n",
      "=================================================================\n",
      "Total params: 9,003\n",
      "Trainable params: 9,003\n",
      "Non-trainable params: 0\n",
      "_________________________________________________________________\n",
      "Epoch 1/20\n",
      "401/401 [==============================] - 1s 1ms/step - loss: 0.4681 - accuracy: 0.7501 - val_loss: 0.2661 - val_accuracy: 0.9044\n",
      "Epoch 2/20\n",
      "401/401 [==============================] - 0s 890us/step - loss: 0.2365 - accuracy: 0.9096 - val_loss: 0.2100 - val_accuracy: 0.9090\n",
      "Epoch 3/20\n",
      "401/401 [==============================] - 0s 900us/step - loss: 0.1853 - accuracy: 0.9222 - val_loss: 0.1841 - val_accuracy: 0.9121\n",
      "Epoch 4/20\n",
      "401/401 [==============================] - 0s 912us/step - loss: 0.1567 - accuracy: 0.9319 - val_loss: 0.1692 - val_accuracy: 0.9142\n",
      "Epoch 5/20\n",
      "401/401 [==============================] - 0s 889us/step - loss: 0.1411 - accuracy: 0.9348 - val_loss: 0.1599 - val_accuracy: 0.9151\n",
      "Epoch 6/20\n",
      "401/401 [==============================] - 0s 890us/step - loss: 0.1281 - accuracy: 0.9383 - val_loss: 0.1535 - val_accuracy: 0.9161\n",
      "Epoch 7/20\n",
      "401/401 [==============================] - 0s 892us/step - loss: 0.1215 - accuracy: 0.9417 - val_loss: 0.1493 - val_accuracy: 0.9158\n",
      "Epoch 8/20\n",
      "401/401 [==============================] - 0s 885us/step - loss: 0.1121 - accuracy: 0.9448 - val_loss: 0.1468 - val_accuracy: 0.9158\n",
      "Epoch 9/20\n",
      "401/401 [==============================] - 0s 887us/step - loss: 0.1066 - accuracy: 0.9458 - val_loss: 0.1442 - val_accuracy: 0.9168\n",
      "Epoch 10/20\n",
      "401/401 [==============================] - 0s 903us/step - loss: 0.1003 - accuracy: 0.9502 - val_loss: 0.1428 - val_accuracy: 0.9172\n",
      "Epoch 11/20\n",
      "401/401 [==============================] - 0s 883us/step - loss: 0.0977 - accuracy: 0.9480 - val_loss: 0.1420 - val_accuracy: 0.9186\n",
      "Epoch 12/20\n",
      "401/401 [==============================] - 0s 888us/step - loss: 0.0903 - accuracy: 0.9532 - val_loss: 0.1416 - val_accuracy: 0.9191\n",
      "Epoch 13/20\n",
      "401/401 [==============================] - 0s 896us/step - loss: 0.0907 - accuracy: 0.9515 - val_loss: 0.1418 - val_accuracy: 0.9200\n",
      "Epoch 14/20\n",
      "401/401 [==============================] - 0s 885us/step - loss: 0.0900 - accuracy: 0.9527 - val_loss: 0.1423 - val_accuracy: 0.9189\n",
      "Epoch 15/20\n",
      "401/401 [==============================] - 0s 888us/step - loss: 0.0877 - accuracy: 0.9520 - val_loss: 0.1428 - val_accuracy: 0.9189\n",
      "Epoch 16/20\n",
      "401/401 [==============================] - 0s 892us/step - loss: 0.0812 - accuracy: 0.9571 - val_loss: 0.1439 - val_accuracy: 0.9193\n",
      "Epoch 17/20\n",
      "401/401 [==============================] - 0s 888us/step - loss: 0.0808 - accuracy: 0.9571 - val_loss: 0.1445 - val_accuracy: 0.9184\n",
      "Epoch 18/20\n",
      "401/401 [==============================] - 0s 891us/step - loss: 0.0834 - accuracy: 0.9520 - val_loss: 0.1460 - val_accuracy: 0.9170\n",
      "Epoch 19/20\n",
      "401/401 [==============================] - 0s 888us/step - loss: 0.0780 - accuracy: 0.9567 - val_loss: 0.1474 - val_accuracy: 0.9170\n",
      "Epoch 20/20\n",
      "401/401 [==============================] - 0s 885us/step - loss: 0.0760 - accuracy: 0.9586 - val_loss: 0.1492 - val_accuracy: 0.9165\n",
      "              precision    recall  f1-score   support\n",
      "\n",
      "           0       0.86      0.69      0.77       491\n",
      "           1       0.98      0.89      0.93      1257\n",
      "           2       0.90      0.98      0.94      2529\n",
      "\n",
      "    accuracy                           0.92      4277\n",
      "   macro avg       0.92      0.85      0.88      4277\n",
      "weighted avg       0.92      0.92      0.92      4277\n",
      "\n"
     ]
    },
    {
     "data": {
      "image/png": "[encoded data removed]",
      "text/plain": [
       "<Figure size 432x288 with 1 Axes>"
      ]
     },
     "metadata": {
      "needs_background": "light"
     },
     "output_type": "display_data"
    }
   ],
   "source": [
    "## define Logistic Regression\n",
    "\n",
    "# the number of epochs\n",
    "epoch_num = 20\n",
    "\n",
    "max_len = max_words\n",
    "model = Sequential()\n",
    "model.add(Input(max_len)) # using TF-IDF features\n",
    "model.add(Dense(3, activation='softmax'))\n",
    "model.summary()\n",
    "model.compile(loss=\"binary_crossentropy\",optimizer=Adam(learning_rate=0.001),metrics=[\"accuracy\"]) # use a learning rate of 1e-3 and an Adam optimizer\n",
    "\n",
    "## fit\n",
    "model_fit = model.fit(train_X_tfidf,train_y_tfidf,batch_size=32,epochs=epoch_num,\n",
    "                      validation_data=(valid_X_tfidf,valid_y_tfidf),\n",
    "                      callbacks=[history]\n",
    "                     )\n",
    "\n",
    "# predict\n",
    "y_pred  = model.predict(test_X_tfidf)\n",
    "y_true = test_y_tfidf\n",
    "\n",
    "# F1\n",
    "print(classification_report(np.argmax(y_true,axis=1), np.argmax(y_pred,axis=1)))\n",
    "\n",
    "# Plot the curves of training and validation loss\n",
    "history.loss_plot('epoch')"
   ]
  },
  {
   "cell_type": "markdown",
   "metadata": {},
   "source": [
    "MLP"
   ]
  },
  {
   "cell_type": "code",
   "execution_count": 12,
   "metadata": {},
   "outputs": [
    {
     "name": "stdout",
     "output_type": "stream",
     "text": [
      "Model: \"sequential_5\"\n",
      "_________________________________________________________________\n",
      "Layer (type)                 Output Shape              Param #   \n",
      "=================================================================\n",
      "dense_7 (Dense)              (None, 128)               384128    \n",
      "_________________________________________________________________\n",
      "flatten_2 (Flatten)          (None, 128)               0         \n",
      "_________________________________________________________________\n",
      "dense_8 (Dense)              (None, 3)                 387       \n",
      "=================================================================\n",
      "Total params: 384,515\n",
      "Trainable params: 384,515\n",
      "Non-trainable params: 0\n",
      "_________________________________________________________________\n",
      "Epoch 1/20\n",
      "401/401 [==============================] - 1s 2ms/step - loss: 0.4631 - accuracy: 0.8348 - val_loss: 0.2340 - val_accuracy: 0.9163\n",
      "Epoch 2/20\n",
      "401/401 [==============================] - 1s 1ms/step - loss: 0.1431 - accuracy: 0.9488 - val_loss: 0.2320 - val_accuracy: 0.9184\n",
      "Epoch 3/20\n",
      "401/401 [==============================] - 1s 1ms/step - loss: 0.1144 - accuracy: 0.9585 - val_loss: 0.2541 - val_accuracy: 0.9198\n",
      "Epoch 4/20\n",
      "401/401 [==============================] - 1s 1ms/step - loss: 0.0931 - accuracy: 0.9650 - val_loss: 0.2794 - val_accuracy: 0.9193\n",
      "Epoch 5/20\n",
      "401/401 [==============================] - 1s 2ms/step - loss: 0.0845 - accuracy: 0.9691 - val_loss: 0.2960 - val_accuracy: 0.9158\n",
      "Epoch 6/20\n",
      "401/401 [==============================] - 1s 1ms/step - loss: 0.0782 - accuracy: 0.9717 - val_loss: 0.3170 - val_accuracy: 0.9154\n",
      "Epoch 7/20\n",
      "401/401 [==============================] - 1s 2ms/step - loss: 0.0709 - accuracy: 0.9737 - val_loss: 0.3401 - val_accuracy: 0.9168\n",
      "Epoch 8/20\n",
      "401/401 [==============================] - 1s 2ms/step - loss: 0.0705 - accuracy: 0.9745 - val_loss: 0.3640 - val_accuracy: 0.9149\n",
      "Epoch 9/20\n",
      "401/401 [==============================] - 1s 2ms/step - loss: 0.0664 - accuracy: 0.9755 - val_loss: 0.3828 - val_accuracy: 0.9149\n",
      "Epoch 10/20\n",
      "401/401 [==============================] - 1s 2ms/step - loss: 0.0692 - accuracy: 0.9744 - val_loss: 0.4058 - val_accuracy: 0.9123\n",
      "Epoch 11/20\n",
      "401/401 [==============================] - 1s 2ms/step - loss: 0.0832 - accuracy: 0.9698 - val_loss: 0.4183 - val_accuracy: 0.9112\n",
      "Epoch 12/20\n",
      "401/401 [==============================] - 1s 2ms/step - loss: 0.0685 - accuracy: 0.9748 - val_loss: 0.4108 - val_accuracy: 0.9130\n",
      "Epoch 13/20\n",
      "401/401 [==============================] - 1s 2ms/step - loss: 0.0609 - accuracy: 0.9775 - val_loss: 0.4172 - val_accuracy: 0.9142\n",
      "Epoch 14/20\n",
      "401/401 [==============================] - 1s 2ms/step - loss: 0.0651 - accuracy: 0.9757 - val_loss: 0.4403 - val_accuracy: 0.9133\n",
      "Epoch 15/20\n",
      "401/401 [==============================] - 1s 2ms/step - loss: 0.0633 - accuracy: 0.9771 - val_loss: 0.4591 - val_accuracy: 0.9149\n",
      "Epoch 16/20\n",
      "401/401 [==============================] - 1s 2ms/step - loss: 0.0638 - accuracy: 0.9763 - val_loss: 0.4845 - val_accuracy: 0.9107\n",
      "Epoch 17/20\n",
      "401/401 [==============================] - 1s 2ms/step - loss: 0.0675 - accuracy: 0.9745 - val_loss: 0.4917 - val_accuracy: 0.9130\n",
      "Epoch 18/20\n",
      "401/401 [==============================] - 1s 2ms/step - loss: 0.0634 - accuracy: 0.9750 - val_loss: 0.5131 - val_accuracy: 0.9114\n",
      "Epoch 19/20\n",
      "401/401 [==============================] - 1s 2ms/step - loss: 0.0621 - accuracy: 0.9764 - val_loss: 0.5228 - val_accuracy: 0.9121\n",
      "Epoch 20/20\n",
      "401/401 [==============================] - 1s 2ms/step - loss: 0.0640 - accuracy: 0.9766 - val_loss: 0.5426 - val_accuracy: 0.9093\n",
      "              precision    recall  f1-score   support\n",
      "\n",
      "           0       0.76      0.78      0.77       491\n",
      "           1       0.97      0.89      0.92      1257\n",
      "           2       0.92      0.95      0.94      2529\n",
      "\n",
      "    accuracy                           0.91      4277\n",
      "   macro avg       0.88      0.87      0.88      4277\n",
      "weighted avg       0.91      0.91      0.91      4277\n",
      "\n"
     ]
    },
    {
     "data": {
      "image/png": "[encoded data removed]",
      "text/plain": [
       "<Figure size 432x288 with 1 Axes>"
      ]
     },
     "metadata": {
      "needs_background": "light"
     },
     "output_type": "display_data"
    }
   ],
   "source": [
    "## define MLP\n",
    "max_len = max_words\n",
    "model = Sequential()\n",
    "model.add(Input(max_len)) # using TF-IDF features\n",
    "model.add(Dense(128,activation=\"relu\"))\n",
    "model.add(Flatten())\n",
    "model.add(Dense(3, activation='softmax'))\n",
    "model.summary()\n",
    "model.compile(loss=\"categorical_crossentropy\",optimizer=Adam(learning_rate=0.001),metrics=[\"accuracy\"]) # use a learning rate of 1e-3 and an Adam optimizer\n",
    "\n",
    "## fit\n",
    "model_fit = model.fit(train_X_tfidf,train_y_tfidf,batch_size=32,epochs=epoch_num,\n",
    "                      validation_data=(valid_X_tfidf,valid_y_tfidf),\n",
    "                      callbacks=[history]\n",
    "                     )\n",
    "\n",
    "# predict\n",
    "y_pred  = model.predict(test_X_tfidf)\n",
    "y_true = test_y_tfidf\n",
    "\n",
    "# F1\n",
    "print(classification_report(np.argmax(y_true,axis=1), np.argmax(y_pred,axis=1)))\n",
    "\n",
    "# Plot the curves of training and validation loss\n",
    "history.loss_plot('epoch')"
   ]
  },
  {
   "cell_type": "code",
   "execution_count": null,
   "metadata": {},
   "outputs": [],
   "source": []
  }
 ],
 "metadata": {
  "kernelspec": {
   "display_name": "Python 3",
   "language": "python",
   "name": "python3"
  },
  "language_info": {
   "codemirror_mode": {
    "name": "ipython",
    "version": 3
   },
   "file_extension": ".py",
   "mimetype": "text/x-python",
   "name": "python",
   "nbconvert_exporter": "python",
   "pygments_lexer": "ipython3",
   "version": "3.8.5"
  }
 },
 "nbformat": 4,
 "nbformat_minor": 4
}
