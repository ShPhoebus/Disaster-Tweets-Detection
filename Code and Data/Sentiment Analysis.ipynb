{
 "cells": [
  {
   "cell_type": "markdown",
   "metadata": {},
   "source": [
    "# Sentiment Analysis"
   ]
  },
  {
   "cell_type": "markdown",
   "metadata": {},
   "source": [
    "Preprocess the data:"
   ]
  },
  {
   "cell_type": "code",
   "execution_count": 1,
   "metadata": {},
   "outputs": [
    {
     "name": "stdout",
     "output_type": "stream",
     "text": [
      "The paragraphs of each dataset:\n",
      "negative Data:1271\n",
      "positive Data:974\n",
      "The paragraphs of train data:2245\n",
      "\n",
      "The max length of one paragraphs: 13861\n"
     ]
    }
   ],
   "source": [
    "import keras\n",
    "import re\n",
    "import string\n",
    "from unicodedata import normalize\n",
    "import numpy\n",
    "from keras.utils import to_categorical\n",
    "import numpy as np\n",
    "\n",
    "# load data\n",
    "with open(\"negative.review\", \"r\",encoding='iso8859-1') as f:\n",
    "    negativeData1 = f.readlines()\n",
    "with open(\"positive.review\", \"r\",encoding='iso8859-1') as f:\n",
    "    positiveData2 = f.readlines()\n",
    "    \n",
    "# extract review\n",
    "def to_review(doc):\n",
    "    output = ''\n",
    "    flag = 0\n",
    "    rev = list()\n",
    "    for n in range(len(doc)):\n",
    "        if (flag == 1):\n",
    "            if (doc[n]=='</review_text>\\n'):\n",
    "                flag = 0\n",
    "                continue\n",
    "            else:\n",
    "                rev.append(doc[n])\n",
    "        \n",
    "        if (doc[n]!='<review_text>\\n'):\n",
    "            continue\n",
    "        else:\n",
    "            flag = 1\n",
    "            continue\n",
    "    return rev\n",
    "\n",
    "negativeData1 = to_review(negativeData1)\n",
    "positiveData2 = to_review(positiveData2)\n",
    "\n",
    "# transform document into paragraphs\n",
    "def to_paras(doc):\n",
    "    output = ''\n",
    "    for n in range(len(doc)):\n",
    "        output = output + doc[n]\n",
    "    lines = output.strip().split('\\n')\n",
    "    pairs = [line.split('\\t') for line in  lines]\n",
    "    \n",
    "    output2 = ''\n",
    "    for n in range(len(pairs)):\n",
    "        output2 += pairs[n][0]\n",
    "        if (pairs[n][0]==''):\n",
    "            output2 += '\\n'\n",
    "\n",
    "    lines = output2.strip().split('\\n')\n",
    "    return lines\n",
    "\n",
    "negativeData1= to_paras(negativeData1)\n",
    "positiveData2= to_paras(positiveData2)\n",
    "    \n",
    "# cal the number of paragraphs\n",
    "negativeData1_len = len(negativeData1)\n",
    "positiveData2_len = len(positiveData2)\n",
    "print('The paragraphs of each dataset:')\n",
    "print('negative Data:%d'%(negativeData1_len))\n",
    "print('positive Data:%d'%(positiveData2_len))\n",
    "\n",
    "#joint train data\n",
    "train_data = negativeData1 + positiveData2\n",
    "train_data_len = len(train_data)\n",
    "print('The paragraphs of train data:%d'%(train_data_len))\n",
    "\n",
    "# cal the max length of one paragraphs\n",
    "max_seq_length = max(len(line) for line in train_data)\n",
    "print('\\nThe max length of one paragraphs: %d'%max_seq_length)\n"
   ]
  },
  {
   "cell_type": "code",
   "execution_count": 2,
   "metadata": {},
   "outputs": [],
   "source": [
    "#  Preprocess the data: build the vocabulary, tokenize, etc.\n",
    "from keras.preprocessing.text import Tokenizer\n",
    "from keras.preprocessing.sequence import pad_sequences\n",
    "\n",
    "max_words = train_data_len # most N appeared words\n",
    "train_data_len = 200 # each paras take N words\n",
    "\n",
    "lines = train_data\n",
    "tokenizer = Tokenizer(num_words=max_words, filters='!\"#$%&()*+,-./:;<=>?@[\\\\]^_`{|}~\\t\\n') ## 使用的最大词语数为max_words\n",
    "tokenizer.fit_on_texts(lines) #1.token 2.build dict\n",
    "word_index = tokenizer.word_index\n",
    "seqs = tokenizer.texts_to_sequences(lines) # list of list\n",
    "seqs_pad = pad_sequences(seqs, maxlen=train_data_len, padding='post')"
   ]
  },
  {
   "cell_type": "code",
   "execution_count": 3,
   "metadata": {},
   "outputs": [
    {
     "name": "stdout",
     "output_type": "stream",
     "text": [
      "The size of label data: (2245,)\n",
      "The size of training data: (2245, 200)\n"
     ]
    }
   ],
   "source": [
    "# joint label data\n",
    "\n",
    "negativeTarget1=[0]*negativeData1_len\n",
    "positiveTarget2=[1]*positiveData2_len\n",
    "label_data = negativeTarget1  + positiveTarget2\n",
    "label_data = np.array(label_data) \n",
    "print('The size of label data: %s'%(str(label_data.shape)))\n",
    "print('The size of training data: %s'%(str(seqs_pad.shape)))"
   ]
  },
  {
   "cell_type": "code",
   "execution_count": 4,
   "metadata": {},
   "outputs": [
    {
     "name": "stdout",
     "output_type": "stream",
     "text": [
      "The size of train_data_onehot: (2245, 200)\n",
      "The size of label_data_onehot: (2245, 2)\n"
     ]
    }
   ],
   "source": [
    "# onehot data\n",
    "def onehot_target(sequences, vocab_size):\n",
    "    n = len(sequences)\n",
    "    data = numpy.zeros((n, vocab_size))\n",
    "    for i in range(n):\n",
    "        data[i,:] = to_categorical(sequences[i], num_classes=vocab_size)\n",
    "    return data\n",
    "\n",
    "label_data_onehot = onehot_target(label_data,2)# encoder_input_seq, max_encoder_seq_length, num_encoder_tokens\n",
    "train_data_onehot = seqs_pad\n",
    "\n",
    "print('The size of train_data_onehot: %s'%(str(train_data_onehot.shape)))\n",
    "print('The size of label_data_onehot: %s'%(str(label_data_onehot.shape)))"
   ]
  },
  {
   "cell_type": "code",
   "execution_count": 5,
   "metadata": {},
   "outputs": [],
   "source": [
    "### partition the dataset to training, validation, and test.###\n",
    "from sklearn.model_selection import train_test_split\n",
    "\n",
    "# Randomly partition the dataset\n",
    "train_X,test_X,train_y,test_y = train_test_split(train_data_onehot,label_data_onehot,test_size=0.2,random_state=5)\n",
    "train_X,valid_X,train_y,valid_y = train_test_split(train_X,train_y,test_size=0.25,random_state=5)"
   ]
  },
  {
   "cell_type": "code",
   "execution_count": 6,
   "metadata": {},
   "outputs": [
    {
     "name": "stdout",
     "output_type": "stream",
     "text": [
      "The size of train_X: (1347, 200)\n",
      "The size of train_y: (1347, 2)\n",
      "The size of valid_X: (449, 200)\n",
      "The size of valid_y: (449, 2)\n",
      "The size of test_X: (449, 200)\n",
      "The size of test_y: (449, 2)\n"
     ]
    }
   ],
   "source": [
    "print('The size of train_X: %s'%(str(train_X.shape)))\n",
    "print('The size of train_y: %s'%(str(train_y.shape)))\n",
    "print('The size of valid_X: %s'%(str(valid_X.shape)))\n",
    "print('The size of valid_y: %s'%(str(valid_y.shape)))\n",
    "print('The size of test_X: %s'%(str(test_X.shape)))\n",
    "print('The size of test_y: %s'%(str(test_y.shape)))"
   ]
  },
  {
   "cell_type": "markdown",
   "metadata": {},
   "source": [
    "# Build your models, Backpropagation, Train you model, Compare models:"
   ]
  },
  {
   "cell_type": "markdown",
   "metadata": {},
   "source": [
    "LSTM model"
   ]
  },
  {
   "cell_type": "code",
   "execution_count": 7,
   "metadata": {},
   "outputs": [
    {
     "name": "stdout",
     "output_type": "stream",
     "text": [
      "Model: \"sequential\"\n",
      "_________________________________________________________________\n",
      "Layer (type)                 Output Shape              Param #   \n",
      "=================================================================\n",
      "embedding (Embedding)        (None, 200, 128)          287488    \n",
      "_________________________________________________________________\n",
      "lstm (LSTM)                  (None, 128)               131584    \n",
      "_________________________________________________________________\n",
      "dense (Dense)                (None, 128)               16512     \n",
      "_________________________________________________________________\n",
      "dropout (Dropout)            (None, 128)               0         \n",
      "_________________________________________________________________\n",
      "dense_1 (Dense)              (None, 2)                 258       \n",
      "=================================================================\n",
      "Total params: 435,842\n",
      "Trainable params: 435,842\n",
      "Non-trainable params: 0\n",
      "_________________________________________________________________\n",
      "Epoch 1/10\n",
      "43/43 [==============================] - 9s 155ms/step - loss: 0.6921 - accuracy: 0.5216 - val_loss: 0.6858 - val_accuracy: 0.5635\n",
      "Epoch 2/10\n",
      "43/43 [==============================] - 4s 104ms/step - loss: 0.6868 - accuracy: 0.5612 - val_loss: 0.6859 - val_accuracy: 0.5679\n",
      "Epoch 3/10\n",
      "43/43 [==============================] - 5s 110ms/step - loss: 0.6836 - accuracy: 0.5875 - val_loss: 0.6856 - val_accuracy: 0.5612\n",
      "Epoch 4/10\n",
      "43/43 [==============================] - 5s 110ms/step - loss: 0.6744 - accuracy: 0.5967 - val_loss: 0.7003 - val_accuracy: 0.5590\n",
      "Epoch 5/10\n",
      "43/43 [==============================] - 5s 110ms/step - loss: 0.6286 - accuracy: 0.6340 - val_loss: 0.7482 - val_accuracy: 0.5568\n",
      "Epoch 6/10\n",
      "43/43 [==============================] - 5s 111ms/step - loss: 0.6106 - accuracy: 0.6029 - val_loss: 0.7426 - val_accuracy: 0.5635\n",
      "Epoch 7/10\n",
      "43/43 [==============================] - 5s 114ms/step - loss: 0.5830 - accuracy: 0.6279 - val_loss: 0.7697 - val_accuracy: 0.5657\n",
      "Epoch 8/10\n",
      "43/43 [==============================] - 5s 117ms/step - loss: 0.5656 - accuracy: 0.6675 - val_loss: 0.7898 - val_accuracy: 0.5724\n",
      "Epoch 9/10\n",
      "43/43 [==============================] - 5s 117ms/step - loss: 0.5614 - accuracy: 0.6492 - val_loss: 0.7732 - val_accuracy: 0.5657\n",
      "Epoch 10/10\n",
      "43/43 [==============================] - 5s 115ms/step - loss: 0.5762 - accuracy: 0.6522 - val_loss: 0.7946 - val_accuracy: 0.5679\n",
      "              precision    recall  f1-score   support\n",
      "\n",
      "           0       0.58      0.93      0.72       259\n",
      "           1       0.48      0.08      0.14       190\n",
      "\n",
      "    accuracy                           0.57       449\n",
      "   macro avg       0.53      0.51      0.43       449\n",
      "weighted avg       0.54      0.57      0.47       449\n",
      "\n"
     ]
    },
    {
     "data": {
      "image/png": "[encoded data removed]",
      "text/plain": [
       "<Figure size 432x288 with 1 Axes>"
      ]
     },
     "metadata": {
      "needs_background": "light"
     },
     "output_type": "display_data"
    }
   ],
   "source": [
    "# try use the last hidden state as the context vector for prediction.\n",
    "\n",
    "from keras.models import Model\n",
    "from keras.optimizers import Adam\n",
    "from keras.preprocessing.text import Tokenizer\n",
    "from keras.preprocessing import sequence\n",
    "from keras.callbacks import EarlyStopping\n",
    "from keras.layers import *\n",
    "from keras.models import Model,Sequential\n",
    "import matplotlib.pyplot as plt\n",
    "%matplotlib inline\n",
    "from sklearn.metrics import classification_report\n",
    "import numpy as np\n",
    "\n",
    "# the number of epochs\n",
    "epoch_num = 10\n",
    "\n",
    "## define LSTM\n",
    "max_len = train_data_len\n",
    "model = Sequential()\n",
    "model.add(Embedding(max_words+1,128,input_length=max_len))\n",
    "model.add(LSTM(128, return_sequences=False))# try use the last hidden state as the context vector for prediction.\n",
    "model.add(Dense(128,activation=\"relu\"))\n",
    "model.add(Dropout(0.5))\n",
    "# The output layer prediction function can be a sigmoid function and the loss function for this task can be binary cross-entropy loss\n",
    "model.add(Dense(2,activation=\"sigmoid\"))\n",
    "model.summary()\n",
    "model.compile(loss=\"binary_crossentropy\",optimizer=Adam(learning_rate=0.001),metrics=[\"accuracy\"]) # use a learning rate of 1e-3 and an Adam optimizer\n",
    "\n",
    "#Plot the curves of training and validation loss\n",
    "class LossHistory(keras.callbacks.Callback):\n",
    "    def on_train_begin(self, logs={}):\n",
    "        self.losses = {'batch':[], 'epoch':[]}\n",
    "        self.val_loss = {'batch':[], 'epoch':[]}\n",
    "    def on_batch_end(self, batch, logs={}):\n",
    "        self.losses['batch'].append(logs.get('loss'))\n",
    "        self.val_loss['batch'].append(logs.get('val_loss'))\n",
    "    def on_epoch_end(self, batch, logs={}):\n",
    "        self.losses['epoch'].append(logs.get('loss'))\n",
    "        self.val_loss['epoch'].append(logs.get('val_loss'))\n",
    "    def loss_plot(self, loss_type):\n",
    "        iters = range(len(self.losses[loss_type]))\n",
    "        plt.figure()\n",
    "        # loss\n",
    "        plt.plot(iters, self.losses[loss_type], 'g', label='train loss')\n",
    "        if loss_type == 'epoch':\n",
    "            # val_loss\n",
    "            plt.plot(iters, self.val_loss[loss_type], 'k', label='val loss')\n",
    "        plt.grid(True)\n",
    "        plt.xlabel(loss_type)\n",
    "        plt.ylabel('loss')\n",
    "        plt.legend(loc=\"upper right\")\n",
    "        plt.show()\n",
    "history = LossHistory()\n",
    "\n",
    "# fit\n",
    "model_fit = model.fit(train_X,train_y,batch_size=32,epochs=epoch_num,\n",
    "                      validation_data=(valid_X,valid_y),\n",
    "                      callbacks=[history]\n",
    "                     )\n",
    "\n",
    "# predict\n",
    "y_pred  = model.predict(test_X)\n",
    "y_true = test_y\n",
    "\n",
    "# F1\n",
    "print(classification_report(np.argmax(y_true,axis=1), np.argmax(y_pred,axis=1)))\n",
    "\n",
    "# Plot the curves of training and validation loss\n",
    "history.loss_plot('epoch')"
   ]
  },
  {
   "cell_type": "code",
   "execution_count": 8,
   "metadata": {},
   "outputs": [
    {
     "name": "stdout",
     "output_type": "stream",
     "text": [
      "Model: \"sequential_1\"\n",
      "_________________________________________________________________\n",
      "Layer (type)                 Output Shape              Param #   \n",
      "=================================================================\n",
      "embedding_1 (Embedding)      (None, 200, 128)          287488    \n",
      "_________________________________________________________________\n",
      "lstm_1 (LSTM)                (None, 64)                49408     \n",
      "_________________________________________________________________\n",
      "dense_2 (Dense)              (None, 128)               8320      \n",
      "_________________________________________________________________\n",
      "dropout_1 (Dropout)          (None, 128)               0         \n",
      "_________________________________________________________________\n",
      "dense_3 (Dense)              (None, 2)                 258       \n",
      "=================================================================\n",
      "Total params: 345,474\n",
      "Trainable params: 345,474\n",
      "Non-trainable params: 0\n",
      "_________________________________________________________________\n",
      "Epoch 1/10\n",
      "43/43 [==============================] - 6s 79ms/step - loss: 0.6902 - accuracy: 0.5401 - val_loss: 0.6864 - val_accuracy: 0.5635\n",
      "Epoch 2/10\n",
      "43/43 [==============================] - 3s 68ms/step - loss: 0.6902 - accuracy: 0.5417 - val_loss: 0.6871 - val_accuracy: 0.5635\n",
      "Epoch 3/10\n",
      "43/43 [==============================] - 3s 67ms/step - loss: 0.6887 - accuracy: 0.5666 - val_loss: 0.6861 - val_accuracy: 0.5635\n",
      "Epoch 4/10\n",
      "43/43 [==============================] - 3s 66ms/step - loss: 0.6962 - accuracy: 0.6119 - val_loss: 0.6896 - val_accuracy: 0.5590\n",
      "Epoch 5/10\n",
      "43/43 [==============================] - 3s 66ms/step - loss: 0.6635 - accuracy: 0.6126 - val_loss: 0.6893 - val_accuracy: 0.5568\n",
      "Epoch 6/10\n",
      "43/43 [==============================] - 3s 62ms/step - loss: 0.6465 - accuracy: 0.6204 - val_loss: 0.6974 - val_accuracy: 0.5501\n",
      "Epoch 7/10\n",
      "43/43 [==============================] - 3s 66ms/step - loss: 0.6109 - accuracy: 0.6437 - val_loss: 0.7090 - val_accuracy: 0.5546\n",
      "Epoch 8/10\n",
      "43/43 [==============================] - 3s 67ms/step - loss: 0.5944 - accuracy: 0.6444 - val_loss: 0.7339 - val_accuracy: 0.5546\n",
      "Epoch 9/10\n",
      "43/43 [==============================] - 3s 67ms/step - loss: 0.5835 - accuracy: 0.6426 - val_loss: 0.7334 - val_accuracy: 0.5590\n",
      "Epoch 10/10\n",
      "43/43 [==============================] - 3s 66ms/step - loss: 0.5778 - accuracy: 0.6355 - val_loss: 0.7530 - val_accuracy: 0.5568\n",
      "              precision    recall  f1-score   support\n",
      "\n",
      "           0       0.58      0.94      0.72       259\n",
      "           1       0.47      0.07      0.13       190\n",
      "\n",
      "    accuracy                           0.57       449\n",
      "   macro avg       0.52      0.51      0.42       449\n",
      "weighted avg       0.53      0.57      0.47       449\n",
      "\n"
     ]
    },
    {
     "data": {
      "image/png": "[encoded data removed]",
      "text/plain": [
       "<Figure size 432x288 with 1 Axes>"
      ]
     },
     "metadata": {
      "needs_background": "light"
     },
     "output_type": "display_data"
    }
   ],
   "source": [
    "# Tune the parameters: hidden state size for LSTM 128 to 64\n",
    "\n",
    "## define LSTM\n",
    "max_len = train_data_len\n",
    "model = Sequential()\n",
    "model.add(Embedding(max_words+1,128,input_length=max_len))\n",
    "model.add(LSTM(64, return_sequences=False))# Tune the parameters: hidden state size for LSTM 128 to 64\n",
    "model.add(Dense(128,activation=\"relu\"))\n",
    "model.add(Dropout(0.5))\n",
    "# The output layer prediction function can be a sigmoid function and the loss function for this task can be binary cross-entropy loss\n",
    "model.add(Dense(2,activation=\"sigmoid\"))\n",
    "model.summary()\n",
    "model.compile(loss=\"binary_crossentropy\",optimizer=Adam(learning_rate=0.001),metrics=[\"accuracy\"]) # use a learning rate of 1e-3 and an Adam optimizer\n",
    "\n",
    "# fit\n",
    "model_fit = model.fit(train_X,train_y,batch_size=32,epochs=epoch_num,\n",
    "                      validation_data=(valid_X,valid_y),\n",
    "                      callbacks=[history]\n",
    "                     )\n",
    "\n",
    "# predict\n",
    "y_pred  = model.predict(test_X)\n",
    "y_true = test_y\n",
    "\n",
    "# F1\n",
    "print(classification_report(np.argmax(y_true,axis=1), np.argmax(y_pred,axis=1)))\n",
    "\n",
    "# Plot the curves of training and validation loss\n",
    "history.loss_plot('epoch')"
   ]
  },
  {
   "cell_type": "markdown",
   "metadata": {},
   "source": [
    "select hyperparameters for LSTM:\n",
    "\n",
    "When hidden state size for LSTM is 64, the model have smaller valid loss and higher accuray.\n",
    "So, 64 is the best hyperparameter for hidden state size."
   ]
  },
  {
   "cell_type": "code",
   "execution_count": null,
   "metadata": {},
   "outputs": [],
   "source": []
  },
  {
   "cell_type": "markdown",
   "metadata": {},
   "source": [
    "CNN model"
   ]
  },
  {
   "cell_type": "code",
   "execution_count": 9,
   "metadata": {},
   "outputs": [
    {
     "name": "stdout",
     "output_type": "stream",
     "text": [
      "Model: \"sequential_2\"\n",
      "_________________________________________________________________\n",
      "Layer (type)                 Output Shape              Param #   \n",
      "=================================================================\n",
      "embedding_2 (Embedding)      (None, 200, 128)          287488    \n",
      "_________________________________________________________________\n",
      "conv1d (Conv1D)              (None, 200, 256)          164096    \n",
      "_________________________________________________________________\n",
      "max_pooling1d (MaxPooling1D) (None, 67, 256)           0         \n",
      "_________________________________________________________________\n",
      "flatten (Flatten)            (None, 17152)             0         \n",
      "_________________________________________________________________\n",
      "dropout_2 (Dropout)          (None, 17152)             0         \n",
      "_________________________________________________________________\n",
      "dense_4 (Dense)              (None, 2)                 34306     \n",
      "=================================================================\n",
      "Total params: 485,890\n",
      "Trainable params: 485,890\n",
      "Non-trainable params: 0\n",
      "_________________________________________________________________\n",
      "Epoch 1/10\n",
      "43/43 [==============================] - 3s 45ms/step - loss: 0.6889 - accuracy: 0.5549 - val_loss: 0.6797 - val_accuracy: 0.5702\n",
      "Epoch 2/10\n",
      "43/43 [==============================] - 1s 33ms/step - loss: 0.6454 - accuracy: 0.7374 - val_loss: 0.6418 - val_accuracy: 0.6414\n",
      "Epoch 3/10\n",
      "43/43 [==============================] - 1s 33ms/step - loss: 0.4835 - accuracy: 0.8219 - val_loss: 0.5713 - val_accuracy: 0.7171\n",
      "Epoch 4/10\n",
      "43/43 [==============================] - 1s 34ms/step - loss: 0.2441 - accuracy: 0.9331 - val_loss: 0.6254 - val_accuracy: 0.6726\n",
      "Epoch 5/10\n",
      "43/43 [==============================] - 1s 33ms/step - loss: 0.1023 - accuracy: 0.9686 - val_loss: 0.7170 - val_accuracy: 0.7149\n",
      "Epoch 6/10\n",
      "43/43 [==============================] - 1s 33ms/step - loss: 0.0621 - accuracy: 0.9696 - val_loss: 0.8214 - val_accuracy: 0.6927\n",
      "Epoch 7/10\n",
      "43/43 [==============================] - 1s 32ms/step - loss: 0.0403 - accuracy: 0.9862 - val_loss: 0.9157 - val_accuracy: 0.6993\n",
      "Epoch 8/10\n",
      "43/43 [==============================] - 1s 31ms/step - loss: 0.0401 - accuracy: 0.9817 - val_loss: 0.9672 - val_accuracy: 0.6904\n",
      "Epoch 9/10\n",
      "43/43 [==============================] - 1s 31ms/step - loss: 0.0343 - accuracy: 0.9820 - val_loss: 1.0521 - val_accuracy: 0.6837\n",
      "Epoch 10/10\n",
      "43/43 [==============================] - 1s 32ms/step - loss: 0.0306 - accuracy: 0.9859 - val_loss: 1.1197 - val_accuracy: 0.6793\n",
      "              precision    recall  f1-score   support\n",
      "\n",
      "           0       0.73      0.75      0.74       259\n",
      "           1       0.65      0.63      0.64       190\n",
      "\n",
      "    accuracy                           0.70       449\n",
      "   macro avg       0.69      0.69      0.69       449\n",
      "weighted avg       0.70      0.70      0.70       449\n",
      "\n"
     ]
    },
    {
     "data": {
      "image/png": "[encoded data removed]",
      "text/plain": [
       "<Figure size 432x288 with 1 Axes>"
      ]
     },
     "metadata": {
      "needs_background": "light"
     },
     "output_type": "display_data"
    }
   ],
   "source": [
    "## define CNN\n",
    "\n",
    "max_len = train_data_len\n",
    "model = Sequential()\n",
    "model.add(Embedding(max_words+ 1, 128, input_length=max_len)) \n",
    "model.add(Conv1D(256, 5, padding='same'))\n",
    "model.add(MaxPooling1D(3, 3, padding='same'))\n",
    "model.add(Flatten())\n",
    "model.add(Dropout(0.1))\n",
    "# The output layer prediction function can be a sigmoid function and the loss function for this task can be binary cross-entropy loss\n",
    "model.add(Dense(2, activation='sigmoid'))\n",
    "model.summary()\n",
    "model.compile(loss=\"binary_crossentropy\",optimizer=Adam(learning_rate=0.001),metrics=[\"accuracy\"]) # use a learning rate of 1e-3 and an Adam optimizer\n",
    "\n",
    "# fit\n",
    "model_fit = model.fit(train_X,train_y,batch_size=32,epochs=epoch_num,\n",
    "                      validation_data=(valid_X,valid_y),\n",
    "                      callbacks=[history]\n",
    "                     )\n",
    "\n",
    "# predict\n",
    "y_pred  = model.predict(test_X)\n",
    "y_true = test_y\n",
    "\n",
    "# F1\n",
    "print(classification_report(np.argmax(y_true,axis=1), np.argmax(y_pred,axis=1)))\n",
    "\n",
    "# Plot the curves of training and validation loss\n",
    "history.loss_plot('epoch')\n"
   ]
  },
  {
   "cell_type": "code",
   "execution_count": 10,
   "metadata": {},
   "outputs": [
    {
     "name": "stdout",
     "output_type": "stream",
     "text": [
      "Model: \"sequential_3\"\n",
      "_________________________________________________________________\n",
      "Layer (type)                 Output Shape              Param #   \n",
      "=================================================================\n",
      "embedding_3 (Embedding)      (None, 200, 128)          287488    \n",
      "_________________________________________________________________\n",
      "conv1d_1 (Conv1D)            (None, 200, 128)          82048     \n",
      "_________________________________________________________________\n",
      "max_pooling1d_1 (MaxPooling1 (None, 67, 128)           0         \n",
      "_________________________________________________________________\n",
      "flatten_1 (Flatten)          (None, 8576)              0         \n",
      "_________________________________________________________________\n",
      "dropout_3 (Dropout)          (None, 8576)              0         \n",
      "_________________________________________________________________\n",
      "dense_5 (Dense)              (None, 2)                 17154     \n",
      "=================================================================\n",
      "Total params: 386,690\n",
      "Trainable params: 386,690\n",
      "Non-trainable params: 0\n",
      "_________________________________________________________________\n",
      "Epoch 1/10\n",
      "43/43 [==============================] - 2s 27ms/step - loss: 0.6853 - accuracy: 0.5584 - val_loss: 0.6769 - val_accuracy: 0.5501\n",
      "Epoch 2/10\n",
      "43/43 [==============================] - 1s 22ms/step - loss: 0.6457 - accuracy: 0.6973 - val_loss: 0.6608 - val_accuracy: 0.6459\n",
      "Epoch 3/10\n",
      "43/43 [==============================] - 1s 22ms/step - loss: 0.5349 - accuracy: 0.8173 - val_loss: 0.5880 - val_accuracy: 0.7038\n",
      "Epoch 4/10\n",
      "43/43 [==============================] - 1s 23ms/step - loss: 0.3107 - accuracy: 0.8955 - val_loss: 0.5725 - val_accuracy: 0.7149\n",
      "Epoch 5/10\n",
      "43/43 [==============================] - 1s 22ms/step - loss: 0.1522 - accuracy: 0.9589 - val_loss: 0.6714 - val_accuracy: 0.7216\n",
      "Epoch 6/10\n",
      "43/43 [==============================] - 1s 22ms/step - loss: 0.0931 - accuracy: 0.9659 - val_loss: 0.7335 - val_accuracy: 0.6771\n",
      "Epoch 7/10\n",
      "43/43 [==============================] - 1s 23ms/step - loss: 0.0560 - accuracy: 0.9682 - val_loss: 0.7801 - val_accuracy: 0.6748\n",
      "Epoch 8/10\n",
      "43/43 [==============================] - 1s 22ms/step - loss: 0.0427 - accuracy: 0.9821 - val_loss: 0.8348 - val_accuracy: 0.6904\n",
      "Epoch 9/10\n",
      "43/43 [==============================] - 1s 23ms/step - loss: 0.0359 - accuracy: 0.9812 - val_loss: 0.8891 - val_accuracy: 0.6815\n",
      "Epoch 10/10\n",
      "43/43 [==============================] - 1s 23ms/step - loss: 0.0428 - accuracy: 0.9744 - val_loss: 0.9220 - val_accuracy: 0.6815\n",
      "              precision    recall  f1-score   support\n",
      "\n",
      "           0       0.73      0.76      0.74       259\n",
      "           1       0.65      0.61      0.63       190\n",
      "\n",
      "    accuracy                           0.70       449\n",
      "   macro avg       0.69      0.68      0.69       449\n",
      "weighted avg       0.69      0.70      0.70       449\n",
      "\n"
     ]
    },
    {
     "data": {
      "image/png": "[encoded data removed]",
      "text/plain": [
       "<Figure size 432x288 with 1 Axes>"
      ]
     },
     "metadata": {
      "needs_background": "light"
     },
     "output_type": "display_data"
    }
   ],
   "source": [
    "# Tune the parameters: the filter size for CNN, 256 to 128\n",
    "\n",
    "## define CNN\n",
    "\n",
    "max_len = train_data_len\n",
    "model = Sequential()\n",
    "model.add(Embedding(max_words+ 1, 128, input_length=max_len))\n",
    "model.add(Conv1D(128, 5, padding='same')) # Tune the parameters: the filter size for CNN, 256 to 128\n",
    "model.add(MaxPooling1D(3, 3, padding='same'))\n",
    "model.add(Flatten())\n",
    "model.add(Dropout(0.1))\n",
    "# The output layer prediction function can be a sigmoid function and the loss function for this task can be binary cross-entropy loss\n",
    "model.add(Dense(2, activation='sigmoid'))\n",
    "model.summary()\n",
    "model.compile(loss=\"binary_crossentropy\",optimizer=Adam(learning_rate=0.001),metrics=[\"accuracy\"]) # use a learning rate of 1e-3 and an Adam optimizer\n",
    "\n",
    "# fit\n",
    "model_fit = model.fit(train_X,train_y,batch_size=32,epochs=epoch_num,\n",
    "                      validation_data=(valid_X,valid_y),\n",
    "                      callbacks=[history]\n",
    "                     )\n",
    "\n",
    "# predict\n",
    "y_pred  = model.predict(test_X)\n",
    "y_true = test_y\n",
    "\n",
    "# F1\n",
    "print(classification_report(np.argmax(y_true,axis=1), np.argmax(y_pred,axis=1)))\n",
    "\n",
    "# Plot the curves of training and validation loss\n",
    "history.loss_plot('epoch')"
   ]
  },
  {
   "cell_type": "markdown",
   "metadata": {},
   "source": [
    "select hyperparameters for CNN:\n",
    "\n",
    "These two hyperparameters have almost the same performance. We can see that the model is overfitting.\n",
    "When the filter size for CNN is 128, the model have smaller valid loss and higher accuray.\n",
    "So, 128 is the best the filter size for CNN."
   ]
  },
  {
   "cell_type": "code",
   "execution_count": null,
   "metadata": {},
   "outputs": [],
   "source": []
  }
 ],
 "metadata": {
  "kernelspec": {
   "display_name": "Python 3",
   "language": "python",
   "name": "python3"
  },
  "language_info": {
   "codemirror_mode": {
    "name": "ipython",
    "version": 3
   },
   "file_extension": ".py",
   "mimetype": "text/x-python",
   "name": "python",
   "nbconvert_exporter": "python",
   "pygments_lexer": "ipython3",
   "version": "3.8.5"
  }
 },
 "nbformat": 4,
 "nbformat_minor": 4
}
